{
  "nbformat": 4,
  "nbformat_minor": 0,
  "metadata": {
    "colab": {
      "provenance": []
    },
    "kernelspec": {
      "name": "python3",
      "display_name": "Python 3"
    },
    "language_info": {
      "name": "python"
    },
    "widgets": {
      "application/vnd.jupyter.widget-state+json": {
        "f026bb76488e4f6ebd60286595c559d5": {
          "model_module": "@jupyter-widgets/controls",
          "model_name": "HBoxModel",
          "model_module_version": "1.5.0",
          "state": {
            "_dom_classes": [],
            "_model_module": "@jupyter-widgets/controls",
            "_model_module_version": "1.5.0",
            "_model_name": "HBoxModel",
            "_view_count": null,
            "_view_module": "@jupyter-widgets/controls",
            "_view_module_version": "1.5.0",
            "_view_name": "HBoxView",
            "box_style": "",
            "children": [
              "IPY_MODEL_7432d263ef134c3c947b10536cdd0c5c",
              "IPY_MODEL_4c6475624e474c9fb155d68da8df987b",
              "IPY_MODEL_c456553aa97947838a99046cdcc6d843"
            ],
            "layout": "IPY_MODEL_36ca6e47172e40c596da8fff644afeac"
          }
        },
        "7432d263ef134c3c947b10536cdd0c5c": {
          "model_module": "@jupyter-widgets/controls",
          "model_name": "HTMLModel",
          "model_module_version": "1.5.0",
          "state": {
            "_dom_classes": [],
            "_model_module": "@jupyter-widgets/controls",
            "_model_module_version": "1.5.0",
            "_model_name": "HTMLModel",
            "_view_count": null,
            "_view_module": "@jupyter-widgets/controls",
            "_view_module_version": "1.5.0",
            "_view_name": "HTMLView",
            "description": "",
            "description_tooltip": null,
            "layout": "IPY_MODEL_068642e836104f49afbdd6c12da1fa2a",
            "placeholder": "​",
            "style": "IPY_MODEL_4773515372be455ab24ec6738b0d2ce7",
            "value": "Epoch 119: 100%"
          }
        },
        "4c6475624e474c9fb155d68da8df987b": {
          "model_module": "@jupyter-widgets/controls",
          "model_name": "FloatProgressModel",
          "model_module_version": "1.5.0",
          "state": {
            "_dom_classes": [],
            "_model_module": "@jupyter-widgets/controls",
            "_model_module_version": "1.5.0",
            "_model_name": "FloatProgressModel",
            "_view_count": null,
            "_view_module": "@jupyter-widgets/controls",
            "_view_module_version": "1.5.0",
            "_view_name": "ProgressView",
            "bar_style": "success",
            "description": "",
            "description_tooltip": null,
            "layout": "IPY_MODEL_048e5b4789b3446d82574c993ec0463e",
            "max": 4,
            "min": 0,
            "orientation": "horizontal",
            "style": "IPY_MODEL_e29e42baa30949cf815712a445d8d052",
            "value": 4
          }
        },
        "c456553aa97947838a99046cdcc6d843": {
          "model_module": "@jupyter-widgets/controls",
          "model_name": "HTMLModel",
          "model_module_version": "1.5.0",
          "state": {
            "_dom_classes": [],
            "_model_module": "@jupyter-widgets/controls",
            "_model_module_version": "1.5.0",
            "_model_name": "HTMLModel",
            "_view_count": null,
            "_view_module": "@jupyter-widgets/controls",
            "_view_module_version": "1.5.0",
            "_view_name": "HTMLView",
            "description": "",
            "description_tooltip": null,
            "layout": "IPY_MODEL_de04a58af7664b93a1ac8b363e775737",
            "placeholder": "​",
            "style": "IPY_MODEL_a0819289641c4fdf9d523c9cdcf2c903",
            "value": " 4/4 [00:00&lt;00:00, 63.68it/s, v_num=1, train_loss=0.339, train_accuracy=0.792]"
          }
        },
        "36ca6e47172e40c596da8fff644afeac": {
          "model_module": "@jupyter-widgets/base",
          "model_name": "LayoutModel",
          "model_module_version": "1.2.0",
          "state": {
            "_model_module": "@jupyter-widgets/base",
            "_model_module_version": "1.2.0",
            "_model_name": "LayoutModel",
            "_view_count": null,
            "_view_module": "@jupyter-widgets/base",
            "_view_module_version": "1.2.0",
            "_view_name": "LayoutView",
            "align_content": null,
            "align_items": null,
            "align_self": null,
            "border": null,
            "bottom": null,
            "display": "inline-flex",
            "flex": null,
            "flex_flow": "row wrap",
            "grid_area": null,
            "grid_auto_columns": null,
            "grid_auto_flow": null,
            "grid_auto_rows": null,
            "grid_column": null,
            "grid_gap": null,
            "grid_row": null,
            "grid_template_areas": null,
            "grid_template_columns": null,
            "grid_template_rows": null,
            "height": null,
            "justify_content": null,
            "justify_items": null,
            "left": null,
            "margin": null,
            "max_height": null,
            "max_width": null,
            "min_height": null,
            "min_width": null,
            "object_fit": null,
            "object_position": null,
            "order": null,
            "overflow": null,
            "overflow_x": null,
            "overflow_y": null,
            "padding": null,
            "right": null,
            "top": null,
            "visibility": null,
            "width": "100%"
          }
        },
        "068642e836104f49afbdd6c12da1fa2a": {
          "model_module": "@jupyter-widgets/base",
          "model_name": "LayoutModel",
          "model_module_version": "1.2.0",
          "state": {
            "_model_module": "@jupyter-widgets/base",
            "_model_module_version": "1.2.0",
            "_model_name": "LayoutModel",
            "_view_count": null,
            "_view_module": "@jupyter-widgets/base",
            "_view_module_version": "1.2.0",
            "_view_name": "LayoutView",
            "align_content": null,
            "align_items": null,
            "align_self": null,
            "border": null,
            "bottom": null,
            "display": null,
            "flex": null,
            "flex_flow": null,
            "grid_area": null,
            "grid_auto_columns": null,
            "grid_auto_flow": null,
            "grid_auto_rows": null,
            "grid_column": null,
            "grid_gap": null,
            "grid_row": null,
            "grid_template_areas": null,
            "grid_template_columns": null,
            "grid_template_rows": null,
            "height": null,
            "justify_content": null,
            "justify_items": null,
            "left": null,
            "margin": null,
            "max_height": null,
            "max_width": null,
            "min_height": null,
            "min_width": null,
            "object_fit": null,
            "object_position": null,
            "order": null,
            "overflow": null,
            "overflow_x": null,
            "overflow_y": null,
            "padding": null,
            "right": null,
            "top": null,
            "visibility": null,
            "width": null
          }
        },
        "4773515372be455ab24ec6738b0d2ce7": {
          "model_module": "@jupyter-widgets/controls",
          "model_name": "DescriptionStyleModel",
          "model_module_version": "1.5.0",
          "state": {
            "_model_module": "@jupyter-widgets/controls",
            "_model_module_version": "1.5.0",
            "_model_name": "DescriptionStyleModel",
            "_view_count": null,
            "_view_module": "@jupyter-widgets/base",
            "_view_module_version": "1.2.0",
            "_view_name": "StyleView",
            "description_width": ""
          }
        },
        "048e5b4789b3446d82574c993ec0463e": {
          "model_module": "@jupyter-widgets/base",
          "model_name": "LayoutModel",
          "model_module_version": "1.2.0",
          "state": {
            "_model_module": "@jupyter-widgets/base",
            "_model_module_version": "1.2.0",
            "_model_name": "LayoutModel",
            "_view_count": null,
            "_view_module": "@jupyter-widgets/base",
            "_view_module_version": "1.2.0",
            "_view_name": "LayoutView",
            "align_content": null,
            "align_items": null,
            "align_self": null,
            "border": null,
            "bottom": null,
            "display": null,
            "flex": "2",
            "flex_flow": null,
            "grid_area": null,
            "grid_auto_columns": null,
            "grid_auto_flow": null,
            "grid_auto_rows": null,
            "grid_column": null,
            "grid_gap": null,
            "grid_row": null,
            "grid_template_areas": null,
            "grid_template_columns": null,
            "grid_template_rows": null,
            "height": null,
            "justify_content": null,
            "justify_items": null,
            "left": null,
            "margin": null,
            "max_height": null,
            "max_width": null,
            "min_height": null,
            "min_width": null,
            "object_fit": null,
            "object_position": null,
            "order": null,
            "overflow": null,
            "overflow_x": null,
            "overflow_y": null,
            "padding": null,
            "right": null,
            "top": null,
            "visibility": null,
            "width": null
          }
        },
        "e29e42baa30949cf815712a445d8d052": {
          "model_module": "@jupyter-widgets/controls",
          "model_name": "ProgressStyleModel",
          "model_module_version": "1.5.0",
          "state": {
            "_model_module": "@jupyter-widgets/controls",
            "_model_module_version": "1.5.0",
            "_model_name": "ProgressStyleModel",
            "_view_count": null,
            "_view_module": "@jupyter-widgets/base",
            "_view_module_version": "1.2.0",
            "_view_name": "StyleView",
            "bar_color": null,
            "description_width": ""
          }
        },
        "de04a58af7664b93a1ac8b363e775737": {
          "model_module": "@jupyter-widgets/base",
          "model_name": "LayoutModel",
          "model_module_version": "1.2.0",
          "state": {
            "_model_module": "@jupyter-widgets/base",
            "_model_module_version": "1.2.0",
            "_model_name": "LayoutModel",
            "_view_count": null,
            "_view_module": "@jupyter-widgets/base",
            "_view_module_version": "1.2.0",
            "_view_name": "LayoutView",
            "align_content": null,
            "align_items": null,
            "align_self": null,
            "border": null,
            "bottom": null,
            "display": null,
            "flex": null,
            "flex_flow": null,
            "grid_area": null,
            "grid_auto_columns": null,
            "grid_auto_flow": null,
            "grid_auto_rows": null,
            "grid_column": null,
            "grid_gap": null,
            "grid_row": null,
            "grid_template_areas": null,
            "grid_template_columns": null,
            "grid_template_rows": null,
            "height": null,
            "justify_content": null,
            "justify_items": null,
            "left": null,
            "margin": null,
            "max_height": null,
            "max_width": null,
            "min_height": null,
            "min_width": null,
            "object_fit": null,
            "object_position": null,
            "order": null,
            "overflow": null,
            "overflow_x": null,
            "overflow_y": null,
            "padding": null,
            "right": null,
            "top": null,
            "visibility": null,
            "width": null
          }
        },
        "a0819289641c4fdf9d523c9cdcf2c903": {
          "model_module": "@jupyter-widgets/controls",
          "model_name": "DescriptionStyleModel",
          "model_module_version": "1.5.0",
          "state": {
            "_model_module": "@jupyter-widgets/controls",
            "_model_module_version": "1.5.0",
            "_model_name": "DescriptionStyleModel",
            "_view_count": null,
            "_view_module": "@jupyter-widgets/base",
            "_view_module_version": "1.2.0",
            "_view_name": "StyleView",
            "description_width": ""
          }
        }
      }
    }
  },
  "cells": [
    {
      "cell_type": "code",
      "execution_count": 26,
      "metadata": {
        "colab": {
          "base_uri": "https://localhost:8080/"
        },
        "id": "hTf91pwnUNYX",
        "outputId": "d83f9019-438a-421f-dcbc-6fd58df589cb"
      },
      "outputs": [
        {
          "output_type": "stream",
          "name": "stdout",
          "text": [
            "Requirement already satisfied: torch in /usr/local/lib/python3.10/dist-packages (2.5.1+cu121)\n",
            "Requirement already satisfied: torchvision in /usr/local/lib/python3.10/dist-packages (0.20.1+cu121)\n",
            "Requirement already satisfied: pytorch_lightning in /usr/local/lib/python3.10/dist-packages (2.4.0)\n",
            "Requirement already satisfied: filelock in /usr/local/lib/python3.10/dist-packages (from torch) (3.16.1)\n",
            "Requirement already satisfied: typing-extensions>=4.8.0 in /usr/local/lib/python3.10/dist-packages (from torch) (4.12.2)\n",
            "Requirement already satisfied: networkx in /usr/local/lib/python3.10/dist-packages (from torch) (3.4.2)\n",
            "Requirement already satisfied: jinja2 in /usr/local/lib/python3.10/dist-packages (from torch) (3.1.4)\n",
            "Requirement already satisfied: fsspec in /usr/local/lib/python3.10/dist-packages (from torch) (2024.10.0)\n",
            "Requirement already satisfied: sympy==1.13.1 in /usr/local/lib/python3.10/dist-packages (from torch) (1.13.1)\n",
            "Requirement already satisfied: mpmath<1.4,>=1.1.0 in /usr/local/lib/python3.10/dist-packages (from sympy==1.13.1->torch) (1.3.0)\n",
            "Requirement already satisfied: numpy in /usr/local/lib/python3.10/dist-packages (from torchvision) (1.26.4)\n",
            "Requirement already satisfied: pillow!=8.3.*,>=5.3.0 in /usr/local/lib/python3.10/dist-packages (from torchvision) (11.0.0)\n",
            "Requirement already satisfied: tqdm>=4.57.0 in /usr/local/lib/python3.10/dist-packages (from pytorch_lightning) (4.66.6)\n",
            "Requirement already satisfied: PyYAML>=5.4 in /usr/local/lib/python3.10/dist-packages (from pytorch_lightning) (6.0.2)\n",
            "Requirement already satisfied: torchmetrics>=0.7.0 in /usr/local/lib/python3.10/dist-packages (from pytorch_lightning) (1.6.0)\n",
            "Requirement already satisfied: packaging>=20.0 in /usr/local/lib/python3.10/dist-packages (from pytorch_lightning) (24.2)\n",
            "Requirement already satisfied: lightning-utilities>=0.10.0 in /usr/local/lib/python3.10/dist-packages (from pytorch_lightning) (0.11.9)\n",
            "Requirement already satisfied: aiohttp!=4.0.0a0,!=4.0.0a1 in /usr/local/lib/python3.10/dist-packages (from fsspec[http]>=2022.5.0->pytorch_lightning) (3.11.2)\n",
            "Requirement already satisfied: setuptools in /usr/local/lib/python3.10/dist-packages (from lightning-utilities>=0.10.0->pytorch_lightning) (75.1.0)\n",
            "Requirement already satisfied: MarkupSafe>=2.0 in /usr/local/lib/python3.10/dist-packages (from jinja2->torch) (3.0.2)\n",
            "Requirement already satisfied: aiohappyeyeballs>=2.3.0 in /usr/local/lib/python3.10/dist-packages (from aiohttp!=4.0.0a0,!=4.0.0a1->fsspec[http]>=2022.5.0->pytorch_lightning) (2.4.3)\n",
            "Requirement already satisfied: aiosignal>=1.1.2 in /usr/local/lib/python3.10/dist-packages (from aiohttp!=4.0.0a0,!=4.0.0a1->fsspec[http]>=2022.5.0->pytorch_lightning) (1.3.1)\n",
            "Requirement already satisfied: attrs>=17.3.0 in /usr/local/lib/python3.10/dist-packages (from aiohttp!=4.0.0a0,!=4.0.0a1->fsspec[http]>=2022.5.0->pytorch_lightning) (24.2.0)\n",
            "Requirement already satisfied: frozenlist>=1.1.1 in /usr/local/lib/python3.10/dist-packages (from aiohttp!=4.0.0a0,!=4.0.0a1->fsspec[http]>=2022.5.0->pytorch_lightning) (1.5.0)\n",
            "Requirement already satisfied: multidict<7.0,>=4.5 in /usr/local/lib/python3.10/dist-packages (from aiohttp!=4.0.0a0,!=4.0.0a1->fsspec[http]>=2022.5.0->pytorch_lightning) (6.1.0)\n",
            "Requirement already satisfied: propcache>=0.2.0 in /usr/local/lib/python3.10/dist-packages (from aiohttp!=4.0.0a0,!=4.0.0a1->fsspec[http]>=2022.5.0->pytorch_lightning) (0.2.0)\n",
            "Requirement already satisfied: yarl<2.0,>=1.17.0 in /usr/local/lib/python3.10/dist-packages (from aiohttp!=4.0.0a0,!=4.0.0a1->fsspec[http]>=2022.5.0->pytorch_lightning) (1.17.2)\n",
            "Requirement already satisfied: async-timeout<6.0,>=4.0 in /usr/local/lib/python3.10/dist-packages (from aiohttp!=4.0.0a0,!=4.0.0a1->fsspec[http]>=2022.5.0->pytorch_lightning) (4.0.3)\n",
            "Requirement already satisfied: idna>=2.0 in /usr/local/lib/python3.10/dist-packages (from yarl<2.0,>=1.17.0->aiohttp!=4.0.0a0,!=4.0.0a1->fsspec[http]>=2022.5.0->pytorch_lightning) (3.10)\n"
          ]
        }
      ],
      "source": [
        "!pip install torch torchvision pytorch_lightning"
      ]
    },
    {
      "cell_type": "markdown",
      "source": [
        "Качаем данные"
      ],
      "metadata": {
        "id": "MMLyFC1yVugJ"
      }
    },
    {
      "cell_type": "code",
      "source": [
        "import torch\n",
        "import pytorch_lightning as pl\n",
        "from torch import nn\n",
        "import numpy as np\n",
        "from sklearn.preprocessing import StandardScaler, LabelEncoder\n",
        "from sklearn.model_selection import train_test_split\n",
        "from torch.utils.data import DataLoader, random_split, TensorDataset\n",
        "from sklearn import datasets"
      ],
      "metadata": {
        "id": "bsJe4drtV7wW"
      },
      "execution_count": 28,
      "outputs": []
    },
    {
      "cell_type": "markdown",
      "source": [
        "Преобработка данных"
      ],
      "metadata": {
        "id": "iQw0rmF40FLH"
      }
    },
    {
      "cell_type": "code",
      "source": [
        "iris = datasets.load_iris()\n",
        "x,y = iris.data, iris.target\n",
        "scaler = StandardScaler()\n",
        "x = scaler.fit_transform(x)\n",
        "le = LabelEncoder()\n",
        "y = le.fit_transform(y)\n",
        "\n",
        "x_train, x_val, y_train, y_val = train_test_split(x, y, test_size=0.2, random_state=42)\n",
        "\n",
        "train_dataset = TensorDataset(torch.tensor(x_train, dtype=torch.float32), torch.tensor(y_train, dtype=torch.long))\n",
        "val_dataset = TensorDataset(torch.tensor(x_val, dtype=torch.float32), torch.tensor(y_val, dtype=torch.long))"
      ],
      "metadata": {
        "id": "DufkOgbPpRAe"
      },
      "execution_count": 29,
      "outputs": []
    },
    {
      "cell_type": "code",
      "source": [
        "scaler = StandardScaler()\n",
        "x = scaler.fit_transform(x)\n",
        "y = LabelEncoder().fit_transform(y)"
      ],
      "metadata": {
        "id": "SYkQzv6vqalT"
      },
      "execution_count": 30,
      "outputs": []
    },
    {
      "cell_type": "code",
      "source": [
        "x_train, x_val, y_train, y_val = train_test_split(x, y, test_size=0.2, random_state=42)\n",
        "train_dataset = TensorDataset(torch.tensor(x_train, dtype=torch.float32),\n",
        "                              torch.tensor(y_train, dtype=torch.long))\n",
        "val_dataset = TensorDataset(torch.tensor(x_val, dtype=torch.float32),\n",
        "                            torch.tensor(y_val, dtype=torch.long))\n",
        "train_loader = DataLoader(train_dataset, batch_size=32, shuffle=True)\n",
        "val_loader = DataLoader(val_dataset, batch_size=32)"
      ],
      "metadata": {
        "id": "ijYwBuD4qnLD"
      },
      "execution_count": 31,
      "outputs": []
    },
    {
      "cell_type": "markdown",
      "source": [
        "Начинаем писать класс перцептрона на PL"
      ],
      "metadata": {
        "id": "HEQcT1GE0JMt"
      }
    },
    {
      "cell_type": "code",
      "source": [
        "class Perceptron(pl.LightningModule):\n",
        "    def __init__(self, input_dim, output_dim, hidden_neurons=10, learning_rate=0.01):\n",
        "        super().__init__()\n",
        "        self.hidden_neurons = hidden_neurons\n",
        "        self.learning_rate = learning_rate\n",
        "\n",
        "        self.weights = torch.nn.Parameter(torch.randn(input_dim, hidden_neurons))#Входные\n",
        "        self.bias = torch.nn.Parameter(torch.zeros(hidden_neurons))\n",
        "\n",
        "        self.output_weights = torch.nn.Parameter(torch.randn(hidden_neurons, output_dim))#Выходыне\n",
        "        self.output_bias = torch.nn.Parameter(torch.zeros(output_dim))\n",
        "\n",
        "    def forward(self, x):\n",
        "        z = torch.matmul(x, self.weights) + self.bias#Что-то типа ax+b, т.е. умножаем входные данные на веса\n",
        "        hidden_output = torch.sigmoid(z)#Сглаживаем от 0 жо 1\n",
        "        y_pred = torch.matmul(hidden_output, self.output_weights) + self.output_bias#Все то же самое, только уже на скрытый выход\n",
        "        return torch.softmax(y_pred, dim=1)#Возвращаем вероятности, нормализуя вдоль 2 оси\n",
        "\n",
        "    def training_step(self, batch, batch_idx):\n",
        "        x, y = batch\n",
        "        y_pred = self.forward(x)#Прогоняем шаг от одного батча\n",
        "        loss = self.cross_entropy_loss(y_pred, y)#Считаем потери\n",
        "        accuracy = self.compute_accuracy(y_pred, y)#Считаем точность\n",
        "\n",
        "        self.log('train_loss', loss, prog_bar=True)\n",
        "        self.log('train_accuracy', accuracy, prog_bar=True)#Просто логируем в консоль их\n",
        "        self.manual_backprop(x, y, y_pred)#Вызов функции расчета градиента вручную\n",
        "        return loss\n",
        "\n",
        "    def configure_optimizers(self):\n",
        "        return None  #Не используется\n",
        "\n",
        "    def cross_entropy_loss(self, y_pred, y):\n",
        "        y_one_hot = torch.nn.functional.one_hot(y, num_classes=y_pred.size(1)).float()#Просто переделываем в формат [0,0,1], где единица - принадлежность классу\n",
        "                                                                                #количество классов равно количеству колонок в y_pred\n",
        "        return -(y_one_hot * torch.log(y_pred + 1e-9)).sum(dim=1).mean()#Чтобы логарифм не ушел от 0 - добавляем 1e-9. Затем поэлементно умножаем уже преобразованный в onehot с логарифмами\n",
        "                                                                        #предсказаний, суммируем по строчкам,выдем среднее\n",
        "\n",
        "    def compute_accuracy(self, y_pred, y):\n",
        "        predicted_classes = torch.argmax(y_pred, dim=1)\n",
        "        accuracy = (predicted_classes == y).float().mean()#Просто считаем точность\n",
        "        return accuracy\n",
        "\n",
        "    def manual_backprop(self, x, y, y_pred):\n",
        "        y_one_hot = torch.nn.functional.one_hot(y, num_classes=y_pred.size(1)).float()#Преобразоывыве в onehot настоящие лэйблы\n",
        "\n",
        "        #Выходые веса\n",
        "        output_error = y_pred - y_one_hot #Считаем разброс\n",
        "        hidden_output = torch.sigmoid(torch.matmul(x, self.weights) + self.bias)#Так же преобразовываем после перемножения входа на весы + смещение\n",
        "        grad_output_weights = torch.matmul(hidden_output.T, output_error) / x.size(0)#перемножаем ранее высчитанный разброс на транспонированную матрицу скрытого выхода + для нормализации делим на размерность батча\n",
        "        grad_output_bias = output_error.mean(dim=0) #Считаем среднее для градиента свободных членов\n",
        "\n",
        "        #Скрытые веса\n",
        "        def_sigm = hidden_output * (1 - hidden_output) # производная функции активации\n",
        "        hidden_error = torch.matmul(output_error, self.output_weights.T) * def_sigm#Умножаем ошибку на выходе на траспонировнные веса выхода, а затем поэлементно на производную\n",
        "        grad_weights = torch.matmul(x.T, hidden_error) / x.size(0)#Градиент свободных членов для скрытых путем матричного перемножения ошибки на на скрытом слое на транспонировнный вход\n",
        "        grad_bias = hidden_error.mean(dim=0)#Градиент для свободных скрытых\n",
        "\n",
        "        #Обновляем веса и смещения путем вычитания из них нвого градиента, умноженного на скорость обучения\n",
        "        self.output_weights.data -= self.learning_rate * grad_output_weights\n",
        "        self.output_bias.data -= self.learning_rate * grad_output_bias\n",
        "        self.weights.data -= self.learning_rate * grad_weights\n",
        "        self.bias.data -= self.learning_rate * grad_bias"
      ],
      "metadata": {
        "id": "84zoh8dmNSkJ"
      },
      "execution_count": 32,
      "outputs": []
    },
    {
      "cell_type": "markdown",
      "source": [
        "Обучение"
      ],
      "metadata": {
        "id": "BrXHyMg_y7yr"
      }
    },
    {
      "cell_type": "code",
      "source": [
        "nums_of_neurons = 50\n",
        "lr = 0.01\n",
        "num_epoch = 120\n",
        "log_steps = 1"
      ],
      "metadata": {
        "id": "HwcgrhRN0bKj"
      },
      "execution_count": 33,
      "outputs": []
    },
    {
      "cell_type": "code",
      "source": [
        "model = Perceptron(input_dim=x.shape[1],\n",
        "                   output_dim=len(set(y)),\n",
        "                   hidden_neurons=nums_of_neurons,\n",
        "                   learning_rate=lr)\n",
        "trainer = pl.Trainer(max_epochs=num_epoch,\n",
        "                     enable_checkpointing=False,\n",
        "                     log_every_n_steps=log_steps)\n",
        "trainer.fit(model, train_loader, val_loader)"
      ],
      "metadata": {
        "colab": {
          "base_uri": "https://localhost:8080/",
          "height": 359,
          "referenced_widgets": [
            "f026bb76488e4f6ebd60286595c559d5",
            "7432d263ef134c3c947b10536cdd0c5c",
            "4c6475624e474c9fb155d68da8df987b",
            "c456553aa97947838a99046cdcc6d843",
            "36ca6e47172e40c596da8fff644afeac",
            "068642e836104f49afbdd6c12da1fa2a",
            "4773515372be455ab24ec6738b0d2ce7",
            "048e5b4789b3446d82574c993ec0463e",
            "e29e42baa30949cf815712a445d8d052",
            "de04a58af7664b93a1ac8b363e775737",
            "a0819289641c4fdf9d523c9cdcf2c903"
          ]
        },
        "id": "9Wto-9GurFj8",
        "outputId": "7c0a48d8-1cb5-4a38-c42a-51bce327f8fa"
      },
      "execution_count": 34,
      "outputs": [
        {
          "output_type": "stream",
          "name": "stderr",
          "text": [
            "INFO:pytorch_lightning.utilities.rank_zero:GPU available: False, used: False\n",
            "INFO:pytorch_lightning.utilities.rank_zero:TPU available: False, using: 0 TPU cores\n",
            "INFO:pytorch_lightning.utilities.rank_zero:HPU available: False, using: 0 HPUs\n",
            "/usr/local/lib/python3.10/dist-packages/pytorch_lightning/trainer/configuration_validator.py:68: You passed in a `val_dataloader` but have no `validation_step`. Skipping val loop.\n",
            "/usr/local/lib/python3.10/dist-packages/pytorch_lightning/core/optimizer.py:182: `LightningModule.configure_optimizers` returned `None`, this fit will run with no optimizer\n",
            "INFO:pytorch_lightning.callbacks.model_summary:\n",
            "  | Name         | Type | Params | Mode\n",
            "---------------------------------------------\n",
            "  | other params | n/a  | 403    | n/a \n",
            "---------------------------------------------\n",
            "403       Trainable params\n",
            "0         Non-trainable params\n",
            "403       Total params\n",
            "0.002     Total estimated model params size (MB)\n",
            "0         Modules in train mode\n",
            "0         Modules in eval mode\n"
          ]
        },
        {
          "output_type": "display_data",
          "data": {
            "text/plain": [
              "Training: |          | 0/? [00:00<?, ?it/s]"
            ],
            "application/vnd.jupyter.widget-view+json": {
              "version_major": 2,
              "version_minor": 0,
              "model_id": "f026bb76488e4f6ebd60286595c559d5"
            }
          },
          "metadata": {}
        },
        {
          "output_type": "stream",
          "name": "stderr",
          "text": [
            "INFO:pytorch_lightning.utilities.rank_zero:`Trainer.fit` stopped: `max_epochs=120` reached.\n"
          ]
        }
      ]
    }
  ]
}